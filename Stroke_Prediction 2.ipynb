{
 "cells": [
  {
   "cell_type": "code",
   "execution_count": 1,
   "id": "ffd90905",
   "metadata": {},
   "outputs": [],
   "source": [
    "import pandas as pd\n",
    "import numpy as np\n",
    "import warnings\n",
    "warnings.filterwarnings(\"ignore\")\n",
    "from sklearn.preprocessing import OneHotEncoder,StandardScaler\n",
    "from imblearn.over_sampling import SMOTE\n",
    "from collections import Counter\n",
    "from sklearn.model_selection import train_test_split\n",
    "from sklearn.linear_model import LogisticRegression\n",
    "from sklearn.tree import DecisionTreeClassifier\n",
    "from sklearn.naive_bayes import GaussianNB\n",
    "from sklearn.ensemble import RandomForestClassifier\n",
    "from sklearn.neighbors import KNeighborsClassifier\n",
    "from sklearn.metrics import classification_report, confusion_matrix,accuracy_score"
   ]
  },
  {
   "cell_type": "code",
   "execution_count": 2,
   "id": "fb052330",
   "metadata": {},
   "outputs": [],
   "source": [
    "data=pd.read_csv('healthcare-dataset-stroke-data.csv')"
   ]
  },
  {
   "cell_type": "code",
   "execution_count": 3,
   "id": "1f8ecc1d",
   "metadata": {},
   "outputs": [
    {
     "data": {
      "text/html": [
       "<div>\n",
       "<style scoped>\n",
       "    .dataframe tbody tr th:only-of-type {\n",
       "        vertical-align: middle;\n",
       "    }\n",
       "\n",
       "    .dataframe tbody tr th {\n",
       "        vertical-align: top;\n",
       "    }\n",
       "\n",
       "    .dataframe thead th {\n",
       "        text-align: right;\n",
       "    }\n",
       "</style>\n",
       "<table border=\"1\" class=\"dataframe\">\n",
       "  <thead>\n",
       "    <tr style=\"text-align: right;\">\n",
       "      <th></th>\n",
       "      <th>id</th>\n",
       "      <th>gender</th>\n",
       "      <th>age</th>\n",
       "      <th>hypertension</th>\n",
       "      <th>heart_disease</th>\n",
       "      <th>ever_married</th>\n",
       "      <th>work_type</th>\n",
       "      <th>Residence_type</th>\n",
       "      <th>avg_glucose_level</th>\n",
       "      <th>bmi</th>\n",
       "      <th>smoking_status</th>\n",
       "      <th>stroke</th>\n",
       "    </tr>\n",
       "  </thead>\n",
       "  <tbody>\n",
       "    <tr>\n",
       "      <th>0</th>\n",
       "      <td>9046</td>\n",
       "      <td>Male</td>\n",
       "      <td>67.0</td>\n",
       "      <td>0</td>\n",
       "      <td>1</td>\n",
       "      <td>Yes</td>\n",
       "      <td>Private</td>\n",
       "      <td>Urban</td>\n",
       "      <td>228.69</td>\n",
       "      <td>36.6</td>\n",
       "      <td>formerly smoked</td>\n",
       "      <td>1</td>\n",
       "    </tr>\n",
       "    <tr>\n",
       "      <th>1</th>\n",
       "      <td>51676</td>\n",
       "      <td>Female</td>\n",
       "      <td>61.0</td>\n",
       "      <td>0</td>\n",
       "      <td>0</td>\n",
       "      <td>Yes</td>\n",
       "      <td>Self-employed</td>\n",
       "      <td>Rural</td>\n",
       "      <td>202.21</td>\n",
       "      <td>NaN</td>\n",
       "      <td>never smoked</td>\n",
       "      <td>1</td>\n",
       "    </tr>\n",
       "    <tr>\n",
       "      <th>2</th>\n",
       "      <td>31112</td>\n",
       "      <td>Male</td>\n",
       "      <td>80.0</td>\n",
       "      <td>0</td>\n",
       "      <td>1</td>\n",
       "      <td>Yes</td>\n",
       "      <td>Private</td>\n",
       "      <td>Rural</td>\n",
       "      <td>105.92</td>\n",
       "      <td>32.5</td>\n",
       "      <td>never smoked</td>\n",
       "      <td>1</td>\n",
       "    </tr>\n",
       "    <tr>\n",
       "      <th>3</th>\n",
       "      <td>60182</td>\n",
       "      <td>Female</td>\n",
       "      <td>49.0</td>\n",
       "      <td>0</td>\n",
       "      <td>0</td>\n",
       "      <td>Yes</td>\n",
       "      <td>Private</td>\n",
       "      <td>Urban</td>\n",
       "      <td>171.23</td>\n",
       "      <td>34.4</td>\n",
       "      <td>smokes</td>\n",
       "      <td>1</td>\n",
       "    </tr>\n",
       "    <tr>\n",
       "      <th>4</th>\n",
       "      <td>1665</td>\n",
       "      <td>Female</td>\n",
       "      <td>79.0</td>\n",
       "      <td>1</td>\n",
       "      <td>0</td>\n",
       "      <td>Yes</td>\n",
       "      <td>Self-employed</td>\n",
       "      <td>Rural</td>\n",
       "      <td>174.12</td>\n",
       "      <td>24.0</td>\n",
       "      <td>never smoked</td>\n",
       "      <td>1</td>\n",
       "    </tr>\n",
       "  </tbody>\n",
       "</table>\n",
       "</div>"
      ],
      "text/plain": [
       "      id  gender   age  hypertension  heart_disease ever_married  \\\n",
       "0   9046    Male  67.0             0              1          Yes   \n",
       "1  51676  Female  61.0             0              0          Yes   \n",
       "2  31112    Male  80.0             0              1          Yes   \n",
       "3  60182  Female  49.0             0              0          Yes   \n",
       "4   1665  Female  79.0             1              0          Yes   \n",
       "\n",
       "       work_type Residence_type  avg_glucose_level   bmi   smoking_status  \\\n",
       "0        Private          Urban             228.69  36.6  formerly smoked   \n",
       "1  Self-employed          Rural             202.21   NaN     never smoked   \n",
       "2        Private          Rural             105.92  32.5     never smoked   \n",
       "3        Private          Urban             171.23  34.4           smokes   \n",
       "4  Self-employed          Rural             174.12  24.0     never smoked   \n",
       "\n",
       "   stroke  \n",
       "0       1  \n",
       "1       1  \n",
       "2       1  \n",
       "3       1  \n",
       "4       1  "
      ]
     },
     "execution_count": 3,
     "metadata": {},
     "output_type": "execute_result"
    }
   ],
   "source": [
    "data.head()"
   ]
  },
  {
   "cell_type": "code",
   "execution_count": 4,
   "id": "b0700bf9",
   "metadata": {},
   "outputs": [
    {
     "data": {
      "text/plain": [
       "(5110, 12)"
      ]
     },
     "execution_count": 4,
     "metadata": {},
     "output_type": "execute_result"
    }
   ],
   "source": [
    "data.shape"
   ]
  },
  {
   "cell_type": "code",
   "execution_count": 5,
   "id": "dec2483b",
   "metadata": {},
   "outputs": [
    {
     "data": {
      "text/html": [
       "<div>\n",
       "<style scoped>\n",
       "    .dataframe tbody tr th:only-of-type {\n",
       "        vertical-align: middle;\n",
       "    }\n",
       "\n",
       "    .dataframe tbody tr th {\n",
       "        vertical-align: top;\n",
       "    }\n",
       "\n",
       "    .dataframe thead th {\n",
       "        text-align: right;\n",
       "    }\n",
       "</style>\n",
       "<table border=\"1\" class=\"dataframe\">\n",
       "  <thead>\n",
       "    <tr style=\"text-align: right;\">\n",
       "      <th></th>\n",
       "      <th>id</th>\n",
       "      <th>age</th>\n",
       "      <th>hypertension</th>\n",
       "      <th>heart_disease</th>\n",
       "      <th>avg_glucose_level</th>\n",
       "      <th>bmi</th>\n",
       "      <th>stroke</th>\n",
       "    </tr>\n",
       "  </thead>\n",
       "  <tbody>\n",
       "    <tr>\n",
       "      <th>count</th>\n",
       "      <td>5110.000000</td>\n",
       "      <td>5110.000000</td>\n",
       "      <td>5110.000000</td>\n",
       "      <td>5110.000000</td>\n",
       "      <td>5110.000000</td>\n",
       "      <td>4909.000000</td>\n",
       "      <td>5110.000000</td>\n",
       "    </tr>\n",
       "    <tr>\n",
       "      <th>mean</th>\n",
       "      <td>36517.829354</td>\n",
       "      <td>43.226614</td>\n",
       "      <td>0.097456</td>\n",
       "      <td>0.054012</td>\n",
       "      <td>106.147677</td>\n",
       "      <td>28.893237</td>\n",
       "      <td>0.048728</td>\n",
       "    </tr>\n",
       "    <tr>\n",
       "      <th>std</th>\n",
       "      <td>21161.721625</td>\n",
       "      <td>22.612647</td>\n",
       "      <td>0.296607</td>\n",
       "      <td>0.226063</td>\n",
       "      <td>45.283560</td>\n",
       "      <td>7.854067</td>\n",
       "      <td>0.215320</td>\n",
       "    </tr>\n",
       "    <tr>\n",
       "      <th>min</th>\n",
       "      <td>67.000000</td>\n",
       "      <td>0.080000</td>\n",
       "      <td>0.000000</td>\n",
       "      <td>0.000000</td>\n",
       "      <td>55.120000</td>\n",
       "      <td>10.300000</td>\n",
       "      <td>0.000000</td>\n",
       "    </tr>\n",
       "    <tr>\n",
       "      <th>25%</th>\n",
       "      <td>17741.250000</td>\n",
       "      <td>25.000000</td>\n",
       "      <td>0.000000</td>\n",
       "      <td>0.000000</td>\n",
       "      <td>77.245000</td>\n",
       "      <td>23.500000</td>\n",
       "      <td>0.000000</td>\n",
       "    </tr>\n",
       "    <tr>\n",
       "      <th>50%</th>\n",
       "      <td>36932.000000</td>\n",
       "      <td>45.000000</td>\n",
       "      <td>0.000000</td>\n",
       "      <td>0.000000</td>\n",
       "      <td>91.885000</td>\n",
       "      <td>28.100000</td>\n",
       "      <td>0.000000</td>\n",
       "    </tr>\n",
       "    <tr>\n",
       "      <th>75%</th>\n",
       "      <td>54682.000000</td>\n",
       "      <td>61.000000</td>\n",
       "      <td>0.000000</td>\n",
       "      <td>0.000000</td>\n",
       "      <td>114.090000</td>\n",
       "      <td>33.100000</td>\n",
       "      <td>0.000000</td>\n",
       "    </tr>\n",
       "    <tr>\n",
       "      <th>max</th>\n",
       "      <td>72940.000000</td>\n",
       "      <td>82.000000</td>\n",
       "      <td>1.000000</td>\n",
       "      <td>1.000000</td>\n",
       "      <td>271.740000</td>\n",
       "      <td>97.600000</td>\n",
       "      <td>1.000000</td>\n",
       "    </tr>\n",
       "  </tbody>\n",
       "</table>\n",
       "</div>"
      ],
      "text/plain": [
       "                 id          age  hypertension  heart_disease  \\\n",
       "count   5110.000000  5110.000000   5110.000000    5110.000000   \n",
       "mean   36517.829354    43.226614      0.097456       0.054012   \n",
       "std    21161.721625    22.612647      0.296607       0.226063   \n",
       "min       67.000000     0.080000      0.000000       0.000000   \n",
       "25%    17741.250000    25.000000      0.000000       0.000000   \n",
       "50%    36932.000000    45.000000      0.000000       0.000000   \n",
       "75%    54682.000000    61.000000      0.000000       0.000000   \n",
       "max    72940.000000    82.000000      1.000000       1.000000   \n",
       "\n",
       "       avg_glucose_level          bmi       stroke  \n",
       "count        5110.000000  4909.000000  5110.000000  \n",
       "mean          106.147677    28.893237     0.048728  \n",
       "std            45.283560     7.854067     0.215320  \n",
       "min            55.120000    10.300000     0.000000  \n",
       "25%            77.245000    23.500000     0.000000  \n",
       "50%            91.885000    28.100000     0.000000  \n",
       "75%           114.090000    33.100000     0.000000  \n",
       "max           271.740000    97.600000     1.000000  "
      ]
     },
     "execution_count": 5,
     "metadata": {},
     "output_type": "execute_result"
    }
   ],
   "source": [
    "data.describe()"
   ]
  },
  {
   "cell_type": "code",
   "execution_count": 6,
   "id": "081f255f",
   "metadata": {},
   "outputs": [
    {
     "name": "stdout",
     "output_type": "stream",
     "text": [
      "<class 'pandas.core.frame.DataFrame'>\n",
      "RangeIndex: 5110 entries, 0 to 5109\n",
      "Data columns (total 12 columns):\n",
      " #   Column             Non-Null Count  Dtype  \n",
      "---  ------             --------------  -----  \n",
      " 0   id                 5110 non-null   int64  \n",
      " 1   gender             5110 non-null   object \n",
      " 2   age                5110 non-null   float64\n",
      " 3   hypertension       5110 non-null   int64  \n",
      " 4   heart_disease      5110 non-null   int64  \n",
      " 5   ever_married       5110 non-null   object \n",
      " 6   work_type          5110 non-null   object \n",
      " 7   Residence_type     5110 non-null   object \n",
      " 8   avg_glucose_level  5110 non-null   float64\n",
      " 9   bmi                4909 non-null   float64\n",
      " 10  smoking_status     5110 non-null   object \n",
      " 11  stroke             5110 non-null   int64  \n",
      "dtypes: float64(3), int64(4), object(5)\n",
      "memory usage: 479.2+ KB\n"
     ]
    }
   ],
   "source": [
    "data.info()"
   ]
  },
  {
   "cell_type": "code",
   "execution_count": 7,
   "id": "940035b3",
   "metadata": {},
   "outputs": [
    {
     "data": {
      "text/plain": [
       "id                     0\n",
       "gender                 0\n",
       "age                    0\n",
       "hypertension           0\n",
       "heart_disease          0\n",
       "ever_married           0\n",
       "work_type              0\n",
       "Residence_type         0\n",
       "avg_glucose_level      0\n",
       "bmi                  201\n",
       "smoking_status         0\n",
       "stroke                 0\n",
       "dtype: int64"
      ]
     },
     "execution_count": 7,
     "metadata": {},
     "output_type": "execute_result"
    }
   ],
   "source": [
    "data.isnull().sum()"
   ]
  },
  {
   "cell_type": "markdown",
   "id": "f5ef8a1f",
   "metadata": {},
   "source": [
    "### DataType Conversion"
   ]
  },
  {
   "cell_type": "code",
   "execution_count": 8,
   "id": "06a03fe7",
   "metadata": {},
   "outputs": [],
   "source": [
    "data['age'] = data['age'].astype(int)"
   ]
  },
  {
   "cell_type": "markdown",
   "id": "60f18800",
   "metadata": {},
   "source": [
    "### Handling Missing Values"
   ]
  },
  {
   "cell_type": "code",
   "execution_count": 9,
   "id": "12fe2161",
   "metadata": {},
   "outputs": [],
   "source": [
    "data['bmi'] = data['bmi'].fillna(data['bmi'].mean())"
   ]
  },
  {
   "cell_type": "markdown",
   "id": "5cba9c91",
   "metadata": {},
   "source": [
    "### Data Encoding"
   ]
  },
  {
   "cell_type": "code",
   "execution_count": 10,
   "id": "4c704565",
   "metadata": {},
   "outputs": [],
   "source": [
    "oneHotEncoder = OneHotEncoder(sparse=False)\n",
    "data['gender']=oneHotEncoder.fit_transform(data['gender'].values.reshape(-1,1))\n",
    "data['ever_married']=oneHotEncoder.fit_transform(data['ever_married'].values.reshape(-1,1))\n",
    "data['work_type']=oneHotEncoder.fit_transform(data['work_type'].values.reshape(-1,1))\n",
    "data['Residence_type']=oneHotEncoder.fit_transform(data['Residence_type'].values.reshape(-1,1))\n",
    "data['smoking_status']=oneHotEncoder.fit_transform(data['smoking_status'].values.reshape(-1,1))"
   ]
  },
  {
   "cell_type": "markdown",
   "id": "743ace33",
   "metadata": {},
   "source": [
    "### Data Scaling"
   ]
  },
  {
   "cell_type": "code",
   "execution_count": 11,
   "id": "40d663b2",
   "metadata": {},
   "outputs": [],
   "source": [
    "sc = StandardScaler()\n",
    "data['bmi'] = sc.fit_transform(data['bmi'].values.reshape(-1,1))\n",
    "data['avg_glucose_level'] = sc.fit_transform(data['avg_glucose_level'].values.reshape(-1,1))"
   ]
  },
  {
   "cell_type": "code",
   "execution_count": 12,
   "id": "91515401",
   "metadata": {},
   "outputs": [
    {
     "data": {
      "text/html": [
       "<div>\n",
       "<style scoped>\n",
       "    .dataframe tbody tr th:only-of-type {\n",
       "        vertical-align: middle;\n",
       "    }\n",
       "\n",
       "    .dataframe tbody tr th {\n",
       "        vertical-align: top;\n",
       "    }\n",
       "\n",
       "    .dataframe thead th {\n",
       "        text-align: right;\n",
       "    }\n",
       "</style>\n",
       "<table border=\"1\" class=\"dataframe\">\n",
       "  <thead>\n",
       "    <tr style=\"text-align: right;\">\n",
       "      <th></th>\n",
       "      <th>id</th>\n",
       "      <th>gender</th>\n",
       "      <th>age</th>\n",
       "      <th>hypertension</th>\n",
       "      <th>heart_disease</th>\n",
       "      <th>ever_married</th>\n",
       "      <th>work_type</th>\n",
       "      <th>Residence_type</th>\n",
       "      <th>avg_glucose_level</th>\n",
       "      <th>bmi</th>\n",
       "      <th>smoking_status</th>\n",
       "      <th>stroke</th>\n",
       "    </tr>\n",
       "  </thead>\n",
       "  <tbody>\n",
       "    <tr>\n",
       "      <th>id</th>\n",
       "      <td>1.000000</td>\n",
       "      <td>0.011426</td>\n",
       "      <td>0.003503</td>\n",
       "      <td>0.003550</td>\n",
       "      <td>-0.001296</td>\n",
       "      <td>0.001004</td>\n",
       "      <td>0.002999</td>\n",
       "      <td>-0.002144</td>\n",
       "      <td>0.001092</td>\n",
       "      <td>0.007812</td>\n",
       "      <td>-0.019243</td>\n",
       "      <td>0.006388</td>\n",
       "    </tr>\n",
       "    <tr>\n",
       "      <th>gender</th>\n",
       "      <td>0.011426</td>\n",
       "      <td>1.000000</td>\n",
       "      <td>0.119580</td>\n",
       "      <td>0.065063</td>\n",
       "      <td>-0.021856</td>\n",
       "      <td>-0.327653</td>\n",
       "      <td>0.106220</td>\n",
       "      <td>0.099111</td>\n",
       "      <td>0.023885</td>\n",
       "      <td>-0.350934</td>\n",
       "      <td>-0.504546</td>\n",
       "      <td>-0.004129</td>\n",
       "    </tr>\n",
       "    <tr>\n",
       "      <th>age</th>\n",
       "      <td>0.003503</td>\n",
       "      <td>0.119580</td>\n",
       "      <td>1.000000</td>\n",
       "      <td>0.276303</td>\n",
       "      <td>0.263668</td>\n",
       "      <td>0.073279</td>\n",
       "      <td>0.326271</td>\n",
       "      <td>0.028026</td>\n",
       "      <td>0.238060</td>\n",
       "      <td>0.236904</td>\n",
       "      <td>-0.378638</td>\n",
       "      <td>0.245128</td>\n",
       "    </tr>\n",
       "    <tr>\n",
       "      <th>hypertension</th>\n",
       "      <td>0.003550</td>\n",
       "      <td>0.065063</td>\n",
       "      <td>0.276303</td>\n",
       "      <td>1.000000</td>\n",
       "      <td>0.108306</td>\n",
       "      <td>0.031240</td>\n",
       "      <td>0.160189</td>\n",
       "      <td>-0.021143</td>\n",
       "      <td>0.174474</td>\n",
       "      <td>0.058853</td>\n",
       "      <td>-0.141501</td>\n",
       "      <td>0.127904</td>\n",
       "    </tr>\n",
       "    <tr>\n",
       "      <th>heart_disease</th>\n",
       "      <td>-0.001296</td>\n",
       "      <td>-0.021856</td>\n",
       "      <td>0.263668</td>\n",
       "      <td>0.108306</td>\n",
       "      <td>1.000000</td>\n",
       "      <td>0.044049</td>\n",
       "      <td>0.038899</td>\n",
       "      <td>-0.085617</td>\n",
       "      <td>0.161857</td>\n",
       "      <td>0.066804</td>\n",
       "      <td>-0.066731</td>\n",
       "      <td>0.134914</td>\n",
       "    </tr>\n",
       "    <tr>\n",
       "      <th>ever_married</th>\n",
       "      <td>0.001004</td>\n",
       "      <td>-0.327653</td>\n",
       "      <td>0.073279</td>\n",
       "      <td>0.031240</td>\n",
       "      <td>0.044049</td>\n",
       "      <td>1.000000</td>\n",
       "      <td>0.085579</td>\n",
       "      <td>-0.011306</td>\n",
       "      <td>0.017646</td>\n",
       "      <td>-0.195571</td>\n",
       "      <td>-0.281177</td>\n",
       "      <td>0.008939</td>\n",
       "    </tr>\n",
       "    <tr>\n",
       "      <th>work_type</th>\n",
       "      <td>0.002999</td>\n",
       "      <td>0.106220</td>\n",
       "      <td>0.326271</td>\n",
       "      <td>0.160189</td>\n",
       "      <td>0.038899</td>\n",
       "      <td>0.085579</td>\n",
       "      <td>1.000000</td>\n",
       "      <td>0.025797</td>\n",
       "      <td>0.168751</td>\n",
       "      <td>0.104257</td>\n",
       "      <td>-0.264956</td>\n",
       "      <td>0.038947</td>\n",
       "    </tr>\n",
       "    <tr>\n",
       "      <th>Residence_type</th>\n",
       "      <td>-0.002144</td>\n",
       "      <td>0.099111</td>\n",
       "      <td>0.028026</td>\n",
       "      <td>-0.021143</td>\n",
       "      <td>-0.085617</td>\n",
       "      <td>-0.011306</td>\n",
       "      <td>0.025797</td>\n",
       "      <td>1.000000</td>\n",
       "      <td>-0.054902</td>\n",
       "      <td>-0.043603</td>\n",
       "      <td>-0.059393</td>\n",
       "      <td>-0.009027</td>\n",
       "    </tr>\n",
       "    <tr>\n",
       "      <th>avg_glucose_level</th>\n",
       "      <td>0.001092</td>\n",
       "      <td>0.023885</td>\n",
       "      <td>0.238060</td>\n",
       "      <td>0.174474</td>\n",
       "      <td>0.161857</td>\n",
       "      <td>0.017646</td>\n",
       "      <td>0.168751</td>\n",
       "      <td>-0.054902</td>\n",
       "      <td>1.000000</td>\n",
       "      <td>0.068111</td>\n",
       "      <td>-0.095131</td>\n",
       "      <td>0.131945</td>\n",
       "    </tr>\n",
       "    <tr>\n",
       "      <th>bmi</th>\n",
       "      <td>0.007812</td>\n",
       "      <td>-0.350934</td>\n",
       "      <td>0.236904</td>\n",
       "      <td>0.058853</td>\n",
       "      <td>0.066804</td>\n",
       "      <td>-0.195571</td>\n",
       "      <td>0.104257</td>\n",
       "      <td>-0.043603</td>\n",
       "      <td>0.068111</td>\n",
       "      <td>1.000000</td>\n",
       "      <td>-0.301156</td>\n",
       "      <td>0.064556</td>\n",
       "    </tr>\n",
       "    <tr>\n",
       "      <th>smoking_status</th>\n",
       "      <td>-0.019243</td>\n",
       "      <td>-0.504546</td>\n",
       "      <td>-0.378638</td>\n",
       "      <td>-0.141501</td>\n",
       "      <td>-0.066731</td>\n",
       "      <td>-0.281177</td>\n",
       "      <td>-0.264956</td>\n",
       "      <td>-0.059393</td>\n",
       "      <td>-0.095131</td>\n",
       "      <td>-0.301156</td>\n",
       "      <td>1.000000</td>\n",
       "      <td>-0.055892</td>\n",
       "    </tr>\n",
       "    <tr>\n",
       "      <th>stroke</th>\n",
       "      <td>0.006388</td>\n",
       "      <td>-0.004129</td>\n",
       "      <td>0.245128</td>\n",
       "      <td>0.127904</td>\n",
       "      <td>0.134914</td>\n",
       "      <td>0.008939</td>\n",
       "      <td>0.038947</td>\n",
       "      <td>-0.009027</td>\n",
       "      <td>0.131945</td>\n",
       "      <td>0.064556</td>\n",
       "      <td>-0.055892</td>\n",
       "      <td>1.000000</td>\n",
       "    </tr>\n",
       "  </tbody>\n",
       "</table>\n",
       "</div>"
      ],
      "text/plain": [
       "                         id    gender       age  hypertension  heart_disease  \\\n",
       "id                 1.000000  0.011426  0.003503      0.003550      -0.001296   \n",
       "gender             0.011426  1.000000  0.119580      0.065063      -0.021856   \n",
       "age                0.003503  0.119580  1.000000      0.276303       0.263668   \n",
       "hypertension       0.003550  0.065063  0.276303      1.000000       0.108306   \n",
       "heart_disease     -0.001296 -0.021856  0.263668      0.108306       1.000000   \n",
       "ever_married       0.001004 -0.327653  0.073279      0.031240       0.044049   \n",
       "work_type          0.002999  0.106220  0.326271      0.160189       0.038899   \n",
       "Residence_type    -0.002144  0.099111  0.028026     -0.021143      -0.085617   \n",
       "avg_glucose_level  0.001092  0.023885  0.238060      0.174474       0.161857   \n",
       "bmi                0.007812 -0.350934  0.236904      0.058853       0.066804   \n",
       "smoking_status    -0.019243 -0.504546 -0.378638     -0.141501      -0.066731   \n",
       "stroke             0.006388 -0.004129  0.245128      0.127904       0.134914   \n",
       "\n",
       "                   ever_married  work_type  Residence_type  avg_glucose_level  \\\n",
       "id                     0.001004   0.002999       -0.002144           0.001092   \n",
       "gender                -0.327653   0.106220        0.099111           0.023885   \n",
       "age                    0.073279   0.326271        0.028026           0.238060   \n",
       "hypertension           0.031240   0.160189       -0.021143           0.174474   \n",
       "heart_disease          0.044049   0.038899       -0.085617           0.161857   \n",
       "ever_married           1.000000   0.085579       -0.011306           0.017646   \n",
       "work_type              0.085579   1.000000        0.025797           0.168751   \n",
       "Residence_type        -0.011306   0.025797        1.000000          -0.054902   \n",
       "avg_glucose_level      0.017646   0.168751       -0.054902           1.000000   \n",
       "bmi                   -0.195571   0.104257       -0.043603           0.068111   \n",
       "smoking_status        -0.281177  -0.264956       -0.059393          -0.095131   \n",
       "stroke                 0.008939   0.038947       -0.009027           0.131945   \n",
       "\n",
       "                        bmi  smoking_status    stroke  \n",
       "id                 0.007812       -0.019243  0.006388  \n",
       "gender            -0.350934       -0.504546 -0.004129  \n",
       "age                0.236904       -0.378638  0.245128  \n",
       "hypertension       0.058853       -0.141501  0.127904  \n",
       "heart_disease      0.066804       -0.066731  0.134914  \n",
       "ever_married      -0.195571       -0.281177  0.008939  \n",
       "work_type          0.104257       -0.264956  0.038947  \n",
       "Residence_type    -0.043603       -0.059393 -0.009027  \n",
       "avg_glucose_level  0.068111       -0.095131  0.131945  \n",
       "bmi                1.000000       -0.301156  0.064556  \n",
       "smoking_status    -0.301156        1.000000 -0.055892  \n",
       "stroke             0.064556       -0.055892  1.000000  "
      ]
     },
     "execution_count": 12,
     "metadata": {},
     "output_type": "execute_result"
    }
   ],
   "source": [
    "data.corr()"
   ]
  },
  {
   "cell_type": "code",
   "execution_count": 13,
   "id": "0553d61f",
   "metadata": {},
   "outputs": [],
   "source": [
    "data = data.drop(['id'],axis=1)"
   ]
  },
  {
   "cell_type": "code",
   "execution_count": 14,
   "id": "1bbdafe9",
   "metadata": {},
   "outputs": [],
   "source": [
    "X = data.drop(['stroke'],axis=1)\n",
    "Y = data['stroke']"
   ]
  },
  {
   "cell_type": "markdown",
   "id": "509fe86d",
   "metadata": {},
   "source": [
    "### SMOTE Technique"
   ]
  },
  {
   "cell_type": "code",
   "execution_count": 15,
   "id": "941d6d6f",
   "metadata": {},
   "outputs": [
    {
     "name": "stdout",
     "output_type": "stream",
     "text": [
      "Original dataset shape Counter({0: 4861, 1: 249})\n",
      "Resampled dataset shape Counter({0: 4861, 1: 3888})\n"
     ]
    }
   ],
   "source": [
    "sm =  SMOTE(random_state=12, sampling_strategy=0.8)\n",
    "\n",
    "X, y =  sm.fit_resample(X,Y)\n",
    "#X_sm.shape, y_sm.shape\n",
    "print('Original dataset shape {}'.format(Counter(Y)))\n",
    "print('Resampled dataset shape {}'.format(Counter(y)))"
   ]
  },
  {
   "cell_type": "code",
   "execution_count": 16,
   "id": "5eaf9714",
   "metadata": {},
   "outputs": [],
   "source": [
    "X_train,X_test,y_train,y_test = train_test_split(X,y,test_size=0.2, random_state=42)"
   ]
  },
  {
   "cell_type": "markdown",
   "id": "80c3c7ce",
   "metadata": {},
   "source": [
    "### Machine Learning"
   ]
  },
  {
   "cell_type": "markdown",
   "id": "62ad0b1e",
   "metadata": {},
   "source": [
    "### Naive Bayes"
   ]
  },
  {
   "cell_type": "code",
   "execution_count": 17,
   "id": "500bc45c",
   "metadata": {},
   "outputs": [],
   "source": [
    "nb = GaussianNB()\n",
    "model = nb.fit(X_train,y_train)\n"
   ]
  },
  {
   "cell_type": "code",
   "execution_count": 18,
   "id": "d532d910",
   "metadata": {},
   "outputs": [],
   "source": [
    "y_pred = model.predict(X_test)"
   ]
  },
  {
   "cell_type": "code",
   "execution_count": 19,
   "id": "07f635f9",
   "metadata": {},
   "outputs": [
    {
     "name": "stdout",
     "output_type": "stream",
     "text": [
      "0.7291428571428571\n"
     ]
    }
   ],
   "source": [
    "print(accuracy_score(y_pred,y_test))"
   ]
  },
  {
   "cell_type": "code",
   "execution_count": 20,
   "id": "8d81e0f8",
   "metadata": {},
   "outputs": [
    {
     "name": "stdout",
     "output_type": "stream",
     "text": [
      "[[716 229]\n",
      " [245 560]]\n"
     ]
    }
   ],
   "source": [
    "print(confusion_matrix(y_pred,y_test))"
   ]
  },
  {
   "cell_type": "code",
   "execution_count": 21,
   "id": "b0f5d35d",
   "metadata": {},
   "outputs": [
    {
     "name": "stdout",
     "output_type": "stream",
     "text": [
      "              precision    recall  f1-score   support\n",
      "\n",
      "           0       0.75      0.76      0.75       945\n",
      "           1       0.71      0.70      0.70       805\n",
      "\n",
      "    accuracy                           0.73      1750\n",
      "   macro avg       0.73      0.73      0.73      1750\n",
      "weighted avg       0.73      0.73      0.73      1750\n",
      "\n"
     ]
    }
   ],
   "source": [
    "print(classification_report(y_pred,y_test))"
   ]
  },
  {
   "cell_type": "markdown",
   "id": "c4a53bb4",
   "metadata": {},
   "source": [
    "### Logistic Regression"
   ]
  },
  {
   "cell_type": "code",
   "execution_count": 22,
   "id": "f5a0067a",
   "metadata": {},
   "outputs": [],
   "source": [
    "lr = LogisticRegression()\n",
    "model_lr = lr.fit(X_train,y_train)"
   ]
  },
  {
   "cell_type": "code",
   "execution_count": 23,
   "id": "46b37bc2",
   "metadata": {},
   "outputs": [],
   "source": [
    "y_pred_lr = model_lr.predict(X_test)"
   ]
  },
  {
   "cell_type": "code",
   "execution_count": 24,
   "id": "98b8d915",
   "metadata": {},
   "outputs": [
    {
     "name": "stdout",
     "output_type": "stream",
     "text": [
      "The accuracy score for the Logistic Regression: 0.77\n"
     ]
    }
   ],
   "source": [
    "print('The accuracy score for the Logistic Regression:', round(accuracy_score(y_pred_lr,y_test),2))"
   ]
  },
  {
   "cell_type": "code",
   "execution_count": 25,
   "id": "61a7fe1b",
   "metadata": {},
   "outputs": [
    {
     "name": "stdout",
     "output_type": "stream",
     "text": [
      "Confusion matrix for Logistic Regression: \n",
      " [[758 205]\n",
      " [203 584]]\n"
     ]
    }
   ],
   "source": [
    "print('Confusion matrix for Logistic Regression: \\n',confusion_matrix(y_pred_lr,y_test))"
   ]
  },
  {
   "cell_type": "code",
   "execution_count": 26,
   "id": "d5ed2f12",
   "metadata": {},
   "outputs": [
    {
     "name": "stdout",
     "output_type": "stream",
     "text": [
      "Classification Report for Logistic Regression: \n",
      "               precision    recall  f1-score   support\n",
      "\n",
      "           0       0.79      0.79      0.79       963\n",
      "           1       0.74      0.74      0.74       787\n",
      "\n",
      "    accuracy                           0.77      1750\n",
      "   macro avg       0.76      0.76      0.76      1750\n",
      "weighted avg       0.77      0.77      0.77      1750\n",
      "\n"
     ]
    }
   ],
   "source": [
    "print('Classification Report for Logistic Regression: \\n',classification_report(y_pred_lr,y_test))"
   ]
  },
  {
   "cell_type": "markdown",
   "id": "47983eaf",
   "metadata": {},
   "source": [
    "### Decision Trees"
   ]
  },
  {
   "cell_type": "code",
   "execution_count": 27,
   "id": "4f0530ca",
   "metadata": {},
   "outputs": [],
   "source": [
    "dt = DecisionTreeClassifier()\n",
    "model_dt = dt.fit(X_train,y_train)"
   ]
  },
  {
   "cell_type": "code",
   "execution_count": 28,
   "id": "318e8b47",
   "metadata": {},
   "outputs": [],
   "source": [
    "y_pred_dt = model_dt.predict(X_test)"
   ]
  },
  {
   "cell_type": "code",
   "execution_count": 29,
   "id": "093b0736",
   "metadata": {},
   "outputs": [
    {
     "name": "stdout",
     "output_type": "stream",
     "text": [
      "The accuracy score for the Decision Tree: 0.94\n"
     ]
    }
   ],
   "source": [
    "print('The accuracy score for the Decision Tree:',round(accuracy_score(y_pred_dt,y_test),2))"
   ]
  },
  {
   "cell_type": "code",
   "execution_count": 30,
   "id": "47ba9679",
   "metadata": {},
   "outputs": [
    {
     "name": "stdout",
     "output_type": "stream",
     "text": [
      "Confusion matrix for Decision Trees: \n",
      " [[892  43]\n",
      " [ 69 746]]\n"
     ]
    }
   ],
   "source": [
    "print('Confusion matrix for Decision Trees: \\n',confusion_matrix(y_pred_dt,y_test))"
   ]
  },
  {
   "cell_type": "code",
   "execution_count": 31,
   "id": "74a68f2b",
   "metadata": {},
   "outputs": [
    {
     "name": "stdout",
     "output_type": "stream",
     "text": [
      "Classification Report for Decision Trees: \n",
      "               precision    recall  f1-score   support\n",
      "\n",
      "           0       0.93      0.95      0.94       935\n",
      "           1       0.95      0.92      0.93       815\n",
      "\n",
      "    accuracy                           0.94      1750\n",
      "   macro avg       0.94      0.93      0.94      1750\n",
      "weighted avg       0.94      0.94      0.94      1750\n",
      "\n"
     ]
    }
   ],
   "source": [
    "print('Classification Report for Decision Trees: \\n',classification_report(y_pred_dt,y_test))"
   ]
  },
  {
   "cell_type": "markdown",
   "id": "d89d67b0",
   "metadata": {},
   "source": [
    "### Random Forest"
   ]
  },
  {
   "cell_type": "code",
   "execution_count": 32,
   "id": "9e2b1d48",
   "metadata": {},
   "outputs": [],
   "source": [
    "rf= RandomForestClassifier()\n",
    "model_rf = rf.fit(X_train,y_train)"
   ]
  },
  {
   "cell_type": "code",
   "execution_count": 33,
   "id": "95aba30a",
   "metadata": {},
   "outputs": [],
   "source": [
    "y_pred_rf = model_rf.predict(X_test)"
   ]
  },
  {
   "cell_type": "code",
   "execution_count": 34,
   "id": "fe126c72",
   "metadata": {},
   "outputs": [
    {
     "name": "stdout",
     "output_type": "stream",
     "text": [
      "0.9605714285714285\n"
     ]
    }
   ],
   "source": [
    "print(accuracy_score(y_pred_rf,y_test))"
   ]
  },
  {
   "cell_type": "code",
   "execution_count": 35,
   "id": "6e4b48c8",
   "metadata": {},
   "outputs": [
    {
     "name": "stdout",
     "output_type": "stream",
     "text": [
      "Confusion matrix for Random Forest: \n",
      " [[927  35]\n",
      " [ 34 754]]\n"
     ]
    }
   ],
   "source": [
    "print('Confusion matrix for Random Forest: \\n',confusion_matrix(y_pred_rf,y_test))"
   ]
  },
  {
   "cell_type": "code",
   "execution_count": 36,
   "id": "d555b302",
   "metadata": {},
   "outputs": [
    {
     "name": "stdout",
     "output_type": "stream",
     "text": [
      "Classification Report for Random Forest: \n",
      "               precision    recall  f1-score   support\n",
      "\n",
      "           0       0.96      0.96      0.96       962\n",
      "           1       0.96      0.96      0.96       788\n",
      "\n",
      "    accuracy                           0.96      1750\n",
      "   macro avg       0.96      0.96      0.96      1750\n",
      "weighted avg       0.96      0.96      0.96      1750\n",
      "\n"
     ]
    }
   ],
   "source": [
    "print('Classification Report for Random Forest: \\n',classification_report(y_pred_rf,y_test))"
   ]
  },
  {
   "cell_type": "markdown",
   "id": "7ce98f5a",
   "metadata": {},
   "source": [
    "### Kneighbors"
   ]
  },
  {
   "cell_type": "code",
   "execution_count": 37,
   "id": "c35b275f",
   "metadata": {},
   "outputs": [],
   "source": [
    "kn = KNeighborsClassifier()\n",
    "model_kn = kn.fit(X_train,y_train)"
   ]
  },
  {
   "cell_type": "code",
   "execution_count": 38,
   "id": "ac4bbaa8",
   "metadata": {},
   "outputs": [],
   "source": [
    "y_pred_kn = model_kn.predict(X_test)"
   ]
  },
  {
   "cell_type": "code",
   "execution_count": 39,
   "id": "7e9e3ffa",
   "metadata": {},
   "outputs": [
    {
     "name": "stdout",
     "output_type": "stream",
     "text": [
      "The accuracy score for KNN: 0.88\n"
     ]
    }
   ],
   "source": [
    "print('The accuracy score for KNN:',round(accuracy_score(y_pred_kn,y_test),2))"
   ]
  },
  {
   "cell_type": "code",
   "execution_count": 40,
   "id": "ab91003b",
   "metadata": {},
   "outputs": [
    {
     "name": "stdout",
     "output_type": "stream",
     "text": [
      "Confusion matrix for KNN: \n",
      " [[784  26]\n",
      " [177 763]]\n"
     ]
    }
   ],
   "source": [
    "print('Confusion matrix for KNN: \\n',confusion_matrix(y_pred_kn,y_test))"
   ]
  },
  {
   "cell_type": "code",
   "execution_count": 41,
   "id": "dfb6ec46",
   "metadata": {},
   "outputs": [
    {
     "name": "stdout",
     "output_type": "stream",
     "text": [
      "Classification Report for KNN: \n",
      "               precision    recall  f1-score   support\n",
      "\n",
      "           0       0.82      0.97      0.89       810\n",
      "           1       0.97      0.81      0.88       940\n",
      "\n",
      "    accuracy                           0.88      1750\n",
      "   macro avg       0.89      0.89      0.88      1750\n",
      "weighted avg       0.90      0.88      0.88      1750\n",
      "\n"
     ]
    }
   ],
   "source": [
    "print('Classification Report for KNN: \\n',classification_report(y_pred_kn,y_test))"
   ]
  },
  {
   "cell_type": "code",
   "execution_count": null,
   "id": "6898821e",
   "metadata": {},
   "outputs": [],
   "source": []
  }
 ],
 "metadata": {
  "kernelspec": {
   "display_name": "Python 3 (ipykernel)",
   "language": "python",
   "name": "python3"
  },
  "language_info": {
   "codemirror_mode": {
    "name": "ipython",
    "version": 3
   },
   "file_extension": ".py",
   "mimetype": "text/x-python",
   "name": "python",
   "nbconvert_exporter": "python",
   "pygments_lexer": "ipython3",
   "version": "3.9.12"
  }
 },
 "nbformat": 4,
 "nbformat_minor": 5
}
